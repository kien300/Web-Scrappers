{
 "cells": [
  {
   "cell_type": "code",
   "execution_count": 5,
   "metadata": {
    "collapsed": false
   },
   "outputs": [],
   "source": [
    "from selenium import webdriver\n",
    "from selenium.webdriver.common import action_chains, keys\n",
    "from selenium.common.exceptions import NoSuchElementException\n",
    "from selenium.webdriver.common.by import By\n",
    "from selenium.webdriver.support.ui import WebDriverWait as wait\n",
    "from selenium.webdriver.support import expected_conditions as EC\n",
    "import csv\n",
    "import time\n",
    "import random\n",
    "import re\n",
    "\n",
    "#setup our webdriver with a chrome profile and navigate to the docket portal\n",
    "driver = webdriver.Chrome(\"C:/Users/KNguyen/chromedriver.exe\")\n",
    "driver.get('http://programs.dsireusa.org/system/program')\n",
    "time.sleep(1)\n",
    "#Apply Filter\n",
    "driver.find_element_by_css_selector(\"#DataTables_Table_0_wrapper > button\").click()\n",
    "time.sleep(1)\n",
    "#Technology\n",
    "driver.find_element_by_css_selector(\"#filtersFlyout > form > nav > div > ul > li:nth-child(2) > a\").click()\n",
    "time.sleep(1)\n",
    "#Renewable Energy\n",
    "driver.find_element_by_css_selector(\"#filtersFlyout > form > nav > div > ul > li:nth-child(2) > div > ul > li:nth-child(3) > a\").click()\n",
    "time.sleep(1)\n",
    "#Solar Technology\n",
    "driver.find_element_by_css_selector(\"#filtersFlyout > form > nav > div > ul > li:nth-child(2) > div > ul > li:nth-child(3) > div > ul > li:nth-child(9) > a\").click()\n",
    "time.sleep(1)\n",
    "#All Solar Technologies\n",
    "driver.find_element_by_css_selector(\"#filtersFlyout > form > nav > div > ul > li:nth-child(2) > div > ul > li:nth-child(3) > div > ul > li:nth-child(9) > div > ul > li:nth-child(3) > label\").click()\n",
    "#time.sleep(10)\n",
    "driver.implicitly_wait(10)\n",
    "#Apply Filter button\n",
    "driver.find_element_by_css_selector(\"#filtersFlyout > form > nav > div > ul > li:nth-child(2) > div > ul > li:nth-child(3) > div > ul > li:nth-child(9) > div > ul > li:nth-child(14) > button\").click()\n",
    "#try:\n",
    "    #element = WebDriverWait(driver, 10).until(\n",
    "        #EC.element_to_be_clickable((By.CLASS_NAME, \"apply-filters-btn\")))\n",
    "#finally:\n",
    "    #element.click()\n",
    "    #driver.find_element_by_class_name(\"apply-filters-btn\").click()\n",
    "    \n",
    "#link = wait.until(EC.element_to_be_clickable((By.CLASS_NAME, \"apply-filters-btn\")))\n",
    "#link.click()\n",
    "time.sleep(3)\n",
    "#Select 'All'\n",
    "driver.find_element_by_css_selector(\"#DataTables_Table_0_length > label > select > option[value='-1']\").click()"
   ]
  },
  {
   "cell_type": "code",
   "execution_count": 11,
   "metadata": {
    "collapsed": false
   },
   "outputs": [
    {
     "name": "stdout",
     "output_type": "stream",
     "text": [
      "Number of programs: 1117\n"
     ]
    }
   ],
   "source": [
    "sum_blob = driver.find_element_by_css_selector(\"body > div.content-container > main > div:nth-child(2) > div.status-bar > div > p\").text\n",
    "match_prog = re.search(r'\\d+',sum_blob)\n",
    "if match_prog:\n",
    "    print (\"Number of programs: \" + match_prog.group())\n",
    "else:\n",
    "    print ('not found')"
   ]
  },
  {
   "cell_type": "code",
   "execution_count": 14,
   "metadata": {
    "collapsed": false
   },
   "outputs": [
    {
     "name": "stdout",
     "output_type": "stream",
     "text": [
      " role=\"row\" class=\"odd\"><td><a href=\"/system/program/detail/1151\" title=\"View program\">NJ Clean Energy- WARMAdvantage Program (Electric and Gas)</a></td><td>NJ</td><td>Financial Incentive</td><td>Rebate Program</td><td>06/16/2005</td><td class=\"sorting_1\">12/02/2016</td></tr>\n"
     ]
    }
   ],
   "source": [
    "results_dirty = driver.find_element_by_css_selector(\"#DataTables_Table_0 > tbody\")\n",
    "results_html = results_dirty.get_attribute(\"innerHTML\")\n",
    "results_segs = results_html.split(\"<tr\")\n",
    "#print (results_segs[1])"
   ]
  },
  {
   "cell_type": "code",
   "execution_count": 36,
   "metadata": {
    "collapsed": false
   },
   "outputs": [],
   "source": [
    "with open('C:/Users/KNguyen/DSIRE.csv', 'w', newline='') as ncuc:\n",
    "    a = csv.writer(ncuc, delimiter=',')\n",
    "    bill_rows = [['Name', 'Link', 'State', 'Category','Policy/Incentive Type','Created', 'Last Updated']]\n",
    "\n",
    "    for item in results_segs[1:]:\n",
    "        match_link = re.search(r'(href=\")(.*\\d+)(\" title)',item)\n",
    "        if match_link:\n",
    "            link = \"http://programs.dsireusa.org\" + match_link.group(2)\n",
    "        else:\n",
    "            link = 'not available'\n",
    "            #print (link)\n",
    "\n",
    "        match_program = re.search(r'(View program\">)(.*)(</a>)', item)\n",
    "        if match_program:\n",
    "            name = match_program.group(2)\n",
    "        else:\n",
    "            name = 'not available'\n",
    "            #print (name)\n",
    "\n",
    "        match_state = re.search(r'(<td>)([A-Z]{2})(</td>)',item)\n",
    "        if match_state:\n",
    "            state = match_state.group(2)\n",
    "        else:\n",
    "            state = 'not available'\n",
    "            #print (state)\n",
    "\n",
    "        one_clean = item.replace(\"</td><td\",\"</td><td>\").split(\"</td><td>\")\n",
    "        category = one_clean[-4].replace('>','')\n",
    "        #print (category)\n",
    "\n",
    "        pi_type = one_clean[-3].replace('>','')\n",
    "        #print (pi_type)\n",
    "\n",
    "        created_date = one_clean[-2].replace('>','')\n",
    "        #print (created_date)\n",
    "\n",
    "        match_updated = re.search(r'\\d+/\\d+/\\d+',one_clean[-1])\n",
    "        if match_updated:\n",
    "            updated_date = match_updated.group()\n",
    "        else:\n",
    "            updated_date = 'not available'\n",
    "            #print (updated_date)\n",
    "        #update = one_clean[-1]\n",
    "        #print (update)\n",
    "        \n",
    "        newrow = [name, link, state, category, pi_type, created_date, updated_date]\n",
    "        bill_rows.append(newrow)\n",
    "        \n",
    "    a.writerows(bill_rows)"
   ]
  }
 ],
 "metadata": {
  "kernelspec": {
   "display_name": "Python 3",
   "language": "python",
   "name": "python3"
  },
  "language_info": {
   "codemirror_mode": {
    "name": "ipython",
    "version": 3
   },
   "file_extension": ".py",
   "mimetype": "text/x-python",
   "name": "python",
   "nbconvert_exporter": "python",
   "pygments_lexer": "ipython3",
   "version": "3.5.2"
  }
 },
 "nbformat": 4,
 "nbformat_minor": 1
}
