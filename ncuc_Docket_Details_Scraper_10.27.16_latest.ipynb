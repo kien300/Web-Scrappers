{
 "cells": [
  {
   "cell_type": "code",
   "execution_count": 3,
   "metadata": {
    "collapsed": true
   },
   "outputs": [],
   "source": [
    "from selenium import webdriver\n",
    "from selenium.webdriver.common.keys import Keys\n",
    "from selenium.common.exceptions import NoSuchElementException\n",
    "import csv\n",
    "import time\n",
    "import random\n",
    "from collections import defaultdict\n",
    "\n",
    "columns = defaultdict(list)\n",
    "\n",
    "with open('C:/Users/KNguyen/NCUC_master_list.csv') as ncuc:\n",
    "    reader = csv.DictReader(ncuc) # read rows into a dictionary format\n",
    "    for row in reader: # read a row as {column1: value1, column2: value2,...}\n",
    "        for (k,v) in row.items(): # go over each column name and value \n",
    "            columns[k].append(v) # append the value into the appropriate list\n",
    "                                 # based on column name k"
   ]
  },
  {
   "cell_type": "code",
   "execution_count": 4,
   "metadata": {
    "collapsed": false
   },
   "outputs": [
    {
     "name": "stdout",
     "output_type": "stream",
     "text": [
      "2344\n",
      "2305\n"
     ]
    }
   ],
   "source": [
    "docket_details = columns['Detail']\n",
    "format_details = [x for x in docket_details if x!='none']\n",
    "print (len(docket_details))\n",
    "print (len(format_details))"
   ]
  },
  {
   "cell_type": "code",
   "execution_count": 5,
   "metadata": {
    "collapsed": false
   },
   "outputs": [],
   "source": [
    "driver = webdriver.Chrome(\"C:/Users/KNguyen/chromedriver.exe\")\n",
    "\n",
    "with open('C:/Users/KNguyen/NCUC_Details.csv', 'w', newline='') as ncuc:\n",
    "    a = csv.writer(ncuc, delimiter=',')\n",
    "    bill_rows = [['ID', 'Date opened', 'Status', 'Description','Sypnosis','Companies Involved']]\n",
    "    for docket in format_details:\n",
    "        try:\n",
    "            driver.get(docket)\n",
    "            driver.implicitly_wait(1)\n",
    "\n",
    "            results_dirty = driver.find_element_by_css_selector(\"#ctl00_ContentPlaceHolder1_PortalPageControl1_ctl38_docketDetailsDiv\")\n",
    "            results_html = results_dirty.get_attribute(\"innerHTML\")\n",
    "            results_segs = results_html.split(\"<tr>\")\n",
    "\n",
    "            lion = []\n",
    "            for bit in results_segs:\n",
    "                format_bit = bit.replace('</span>','\">').split('\">')\n",
    "                lion.append(format_bit)\n",
    "\n",
    "            docket_id = lion[1][5]\n",
    "\n",
    "            date_opened = lion[2][5]\n",
    "\n",
    "            docket_status = lion[3][5]\n",
    "\n",
    "            docket_desp = lion[4][6]\n",
    "\n",
    "            docket_syp = lion[5][5]\n",
    "\n",
    "            final_companies = []\n",
    "            companies_involved = ''\n",
    "            for bit in lion[6]:\n",
    "                format_bit = bit.split('</p>')\n",
    "                final_companies.append(format_bit)\n",
    "            for x in range (5,len(final_companies)):\n",
    "                companies_involved +=(final_companies[x][0]) + ', '\n",
    "\n",
    "            newrow = [docket_id, date_opened, docket_status, docket_desp, docket_syp, companies_involved]\n",
    "            bill_rows.append(newrow)\n",
    "        \n",
    "        except NoSuchElementException:\n",
    "            driver.refresh()\n",
    "            continue\n",
    "        #print()\n",
    "        #print()\n",
    "    a.writerows(bill_rows)"
   ]
  }
 ],
 "metadata": {
  "kernelspec": {
   "display_name": "Python 3",
   "language": "python",
   "name": "python3"
  },
  "language_info": {
   "codemirror_mode": {
    "name": "ipython",
    "version": 3
   },
   "file_extension": ".py",
   "mimetype": "text/x-python",
   "name": "python",
   "nbconvert_exporter": "python",
   "pygments_lexer": "ipython3",
   "version": "3.5.2"
  }
 },
 "nbformat": 4,
 "nbformat_minor": 1
}
