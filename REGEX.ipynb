{
 "cells": [
  {
   "cell_type": "code",
   "execution_count": 8,
   "metadata": {
    "collapsed": false
   },
   "outputs": [
    {
     "name": "stdout",
     "output_type": "stream",
     "text": [
      "found \n"
     ]
    }
   ],
   "source": [
    "import re\n",
    "\n",
    "str = 'The generating facility will consist of (5) 1.0MW solar photovoltaic arrays and (10) 500kW inverters. The facility will produce 5 MWAC (Net). The source of its power is solar.'\n",
    "match = re.search(r'(?!^.*[a-zA-Z])', str)\n",
    "# If-statement after search() tests if it succeeded\n",
    "if match:                      \n",
    "    print ('found', match.group()) ## 'found word:cat'\n",
    "else:\n",
    "    print ('did not find')"
   ]
  },
  {
   "cell_type": "code",
   "execution_count": 12,
   "metadata": {
    "collapsed": false
   },
   "outputs": [
    {
     "name": "stdout",
     "output_type": "stream",
     "text": [
      "16.00 MW (AC)\n"
     ]
    }
   ],
   "source": [
    "desp_6 = \"Grid-tied 19,999.96 kW (DC) /16.00 MW (AC) Photovoltaic power generation facility \"\n",
    "match = re.search(r'(/)(.+\\(AC\\))',desp_6)\n",
    "if match:\n",
    "    print (match.group(2))"
   ]
  },
  {
   "cell_type": "code",
   "execution_count": 34,
   "metadata": {
    "collapsed": false
   },
   "outputs": [
    {
     "data": {
      "text/plain": [
       "['', '1', '. Full Name,2. Type of Facility3. Nature of the']"
      ]
     },
     "execution_count": 34,
     "metadata": {},
     "output_type": "execute_result"
    }
   ],
   "source": [
    "re.split('([1-9])', '1. Full Name,2. Type of Facility3. Nature of the')#[1::2]"
   ]
  },
  {
   "cell_type": "code",
   "execution_count": 44,
   "metadata": {
    "collapsed": false
   },
   "outputs": [
    {
     "data": {
      "text/plain": [
       "'baz'"
      ]
     },
     "execution_count": 44,
     "metadata": {},
     "output_type": "execute_result"
    }
   ],
   "source": [
    "a=[\"foo\", \"bar\", \"baz\"]\n",
    "#b= (a.index(\"bar\"))+1\n",
    "a[(a.index(\"bar\"))+1]\n",
    "#print (b)"
   ]
  },
  {
   "cell_type": "code",
   "execution_count": 2,
   "metadata": {
    "collapsed": false
   },
   "outputs": [
    {
     "data": {
      "text/plain": [
       "['', '<body>', '', '<table>', '', '<tr>', '', '<td>', '']"
      ]
     },
     "execution_count": 2,
     "metadata": {},
     "output_type": "execute_result"
    }
   ],
   "source": [
    "re.split('(<[^>]*>)', '<body><table><tr><td>')#[1::2]"
   ]
  },
  {
   "cell_type": "code",
   "execution_count": 4,
   "metadata": {
    "collapsed": false
   },
   "outputs": [],
   "source": [
    "## Search for pattern 'iii' in string 'piiig'.\n",
    "## All of the pattern must match, but it may appear anywhere.\n",
    "## On success, match.group() is matched text.\n",
    "match = re.search(r'iii', 'piiig') #=>  found, match.group() == \"iii\"\n",
    "match = re.search(r'igs', 'piiig') #=>  not found, match == None\n",
    "\n",
    "## . = any char but \\n\n",
    "match = re.search(r'..g', 'piiig') #=>  found, match.group() == \"iig\"\n",
    "\n",
    "## \\d = digit char, \\w = word char\n",
    "match = re.search(r'\\d\\d\\d', 'p123g') #=>  found, match.group() == \"123\"\n",
    "match = re.search(r'\\w\\w\\w', '@@abcd!!') #=>  found, match.group() == \"abc\""
   ]
  },
  {
   "cell_type": "code",
   "execution_count": 13,
   "metadata": {
    "collapsed": false
   },
   "outputs": [
    {
     "name": "stdout",
     "output_type": "stream",
     "text": [
      "alice-b@google.com\n",
      "alice-b\n",
      "google.com\n"
     ]
    }
   ],
   "source": [
    "str = 'purple alice-b@google.com monkey dishwasher'\n",
    "match = re.search('([\\w.-]+)@([\\w.-]+)', str)\n",
    "if match:\n",
    "    print (match.group())   ## 'alice-b@google.com' (the whole match)\n",
    "    print (match.group(1))  ## 'alice-b' (the username, group 1)\n",
    "    print (match.group(2))  ## 'google.com' (the host, group 2)"
   ]
  },
  {
   "cell_type": "code",
   "execution_count": 12,
   "metadata": {
    "collapsed": false
   },
   "outputs": [
    {
     "name": "stdout",
     "output_type": "stream",
     "text": [
      "Telephone 1:+1(919)838-0529\n"
     ]
    }
   ],
   "source": [
    "phone = \"Telephone 1:+1(919)838-0529\"\n",
    "match = re.search(r'Telephone 1:[\\d+() -]*', phone)\n",
    "if match:\n",
    "    print (match.group())"
   ]
  },
  {
   "cell_type": "code",
   "execution_count": 36,
   "metadata": {
    "collapsed": true
   },
   "outputs": [],
   "source": [
    "sample = ['<tr>\\n\\t\\t', 'SOMERS; LAWRENCE B.                ', '\\n\\t</tr>\\n\\t<tr>\\n\\t\\t', 'DEPUTY GENERAL COUNSEL             ', '\\n\\t</tr>\\n\\t<tr>\\n\\t\\t', 'DUKE ENERGY CORPORATION                                               ', '\\n\\t</tr>\\n\\t<tr>\\n\\t\\t', 'PO BOX 1551/NCRH20', '\\n\\t</tr>\\n\\t<tr>\\n\\t\\t', '', '\\n\\t</tr>\\n\\t<tr>\\n\\t\\t', 'RALEIGH,&nbsp;\\n\\t\\t\\tNC&nbsp;\\n\\t\\t\\t27602-1551\\n\\t\\t', '\\n\\t</tr>\\n\\t<tr>\\n\\t\\t', ' class=\"nowrap\">Fax:&nbsp;&nbsp;+9(195)462-6669<br>Telephone 1:&nbsp;&nbsp;+1(919)546-6722', '   \\n\\t</tr>\\n\\t<tr>\\n\\t\\t', ' class=\"nowrap\">E-Mail:&nbsp;&nbsp;<a href=\"mailto:bo.somers@duke-energy.com\" id=\"ctl00_ContentPlaceHolder1_PortalPageControl1_ctl38_serviceListRepeater_ctl01_contactInfo_email\">bo.somers@duke-energy.com</a>', '\\n\\t</tr>\\n</tbody></table>\\n\\n\\t\\t\\t        ', '\\n\\t\\t\\t        ', ' headers=\"c1\" class=\"text-center text-top\">\\n\\t\\t\\t\\t         \\n\\t\\t\\t        ', '\\n\\t\\t\\t        ', ' headers=\"c2\" class=\"text-center text-top\">\\n\\t\\t\\t\\t        3/6/2015\\n\\t\\t\\t        ', '\\n\\t\\t\\t        ', ' headers=\"c3\" class=\"text-center text-top\">\\n\\t\\t\\t\\t        No\\n\\t\\t\\t        ', '\\n\\t\\t        </tr>\\n\\t    \\n\\t\\t        <tr>\\n\\t\\t\\t        ', ' colspan=\"5\"><hr>\\n\\t\\t\\t        ', '\\n\\t\\t        </tr>\\n\\t    \\n\\t\\t        <tr>\\n\\t\\t\\t        ', ' headers=\"c0\">\\n\\t\\t\\t\\t        \\n\\t\\t\\t\\t        \\n\\n\\n<!--AGT 20140811 Case:42826 508 table accessible...HTML5 tweak -->\\n<!--AGT 20140916 Case:42825 508 CSS layout-->\\n<table class=\"padding-1 table-noborder noborder\" summary=\"This table is used for layout.\">\\n\\t']"
   ]
  },
  {
   "cell_type": "code",
   "execution_count": 40,
   "metadata": {
    "collapsed": false
   },
   "outputs": [
    {
     "name": "stdout",
     "output_type": "stream",
     "text": [
      "bo.somers@duke-energy.com\n"
     ]
    }
   ],
   "source": [
    "def hasNumbers(inputString):\n",
    "    return bool(re.search(r'\\d+', inputString))\n",
    "\n",
    "#for item in sample:\n",
    "    #if hasNumbers (item) is True:\n",
    "        #print ('there numbers')\n",
    "    #else:\n",
    "        #print ('nothing')\n",
    "    \n",
    "#print (sample)\n",
    "address_dirty = []\n",
    "other_parts=re.compile('.*Fax.*|.*Telephone.*|.*>.*|&nbsp')\n",
    "for i in range (0,len(sample)):\n",
    "    if hasNumbers (sample[i]) is True:\n",
    "        sample1=sample[i]\n",
    "        address_dirty.append(sample1)\n",
    "test1=[]        \n",
    "for item in address_dirty:\n",
    "    test3 = other_parts.sub('', item)\n",
    "    test1.append(test3) \n",
    "#print (address_dirty)\n",
    "#print (test1)\n",
    "email_address = ''\n",
    "for item in sample:\n",
    "    match = re.search('([\\w.-]+)@([\\w.-]+)', item)\n",
    "    if match:\n",
    "        email_address = match.group()\n",
    "print (email_address)"
   ]
  }
 ],
 "metadata": {
  "kernelspec": {
   "display_name": "Python 3",
   "language": "python",
   "name": "python3"
  },
  "language_info": {
   "codemirror_mode": {
    "name": "ipython",
    "version": 3
   },
   "file_extension": ".py",
   "mimetype": "text/x-python",
   "name": "python",
   "nbconvert_exporter": "python",
   "pygments_lexer": "ipython3",
   "version": "3.5.2"
  }
 },
 "nbformat": 4,
 "nbformat_minor": 1
}
